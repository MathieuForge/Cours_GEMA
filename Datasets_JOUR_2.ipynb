{
  "nbformat": 4,
  "nbformat_minor": 0,
  "metadata": {
    "colab": {
      "provenance": [],
      "authorship_tag": "ABX9TyP60/A8g6rP9Lj3He61Krpj",
      "include_colab_link": true
    },
    "kernelspec": {
      "name": "python3",
      "display_name": "Python 3"
    },
    "language_info": {
      "name": "python"
    }
  },
  "cells": [
    {
      "cell_type": "markdown",
      "metadata": {
        "id": "view-in-github",
        "colab_type": "text"
      },
      "source": [
        "<a href=\"https://colab.research.google.com/github/MathieuForge/Cours_GEMA/blob/main/Datasets_JOUR_2.ipynb\" target=\"_parent\"><img src=\"https://colab.research.google.com/assets/colab-badge.svg\" alt=\"Open In Colab\"/></a>"
      ]
    },
    {
      "cell_type": "code",
      "source": [
        "!pip install faker"
      ],
      "metadata": {
        "colab": {
          "base_uri": "https://localhost:8080/"
        },
        "id": "UyG_k3vI9Wvl",
        "outputId": "62dd89da-296e-4b2f-a373-69d10ad7873c"
      },
      "execution_count": null,
      "outputs": [
        {
          "output_type": "stream",
          "name": "stdout",
          "text": [
            "Requirement already satisfied: faker in /usr/local/lib/python3.10/dist-packages (30.1.0)\n",
            "Requirement already satisfied: python-dateutil>=2.4 in /usr/local/lib/python3.10/dist-packages (from faker) (2.8.2)\n",
            "Requirement already satisfied: typing-extensions in /usr/local/lib/python3.10/dist-packages (from faker) (4.12.2)\n",
            "Requirement already satisfied: six>=1.5 in /usr/local/lib/python3.10/dist-packages (from python-dateutil>=2.4->faker) (1.16.0)\n"
          ]
        }
      ]
    },
    {
      "cell_type": "code",
      "execution_count": null,
      "metadata": {
        "colab": {
          "base_uri": "https://localhost:8080/"
        },
        "id": "zk9vZ6uM9VWc",
        "outputId": "b7f446a0-94bd-4a5c-c677-3feb6503b26c"
      },
      "outputs": [
        {
          "output_type": "stream",
          "name": "stdout",
          "text": [
            "Les datasets ont été générés et sauvegardés avec succès.\n"
          ]
        }
      ],
      "source": [
        "import pandas as pd\n",
        "import random\n",
        "from faker import Faker\n",
        "import datetime\n",
        "\n",
        "# Initialiser Faker pour générer des données réalistes\n",
        "fake = Faker()\n",
        "\n",
        "# Générer la table utilisateurs\n",
        "num_users = 10000\n",
        "utilisateurs_data = {\n",
        "    'id': range(1, num_users + 1),  # 10,000 utilisateurs\n",
        "    'nom': [fake.name() for _ in range(num_users)],\n",
        "    'email': [fake.email() for _ in range(num_users)]\n",
        "}\n",
        "utilisateurs = pd.DataFrame(utilisateurs_data)\n",
        "\n",
        "# Générer la table commandes avec des commandes aléatoires pour certains utilisateurs\n",
        "num_commandes = 20000  # 20,000 commandes\n",
        "dates = [fake.date_between(start_date='-1y', end_date='today') for _ in range(num_commandes)]\n",
        "commandes_data = {\n",
        "    'commande_id': range(1, num_commandes + 1),  # 20,000 commandes\n",
        "    'utilisateur_id': [random.randint(1, num_users) for _ in range(num_commandes)],  # associer des utilisateurs aléatoirement\n",
        "    'date_commande': dates\n",
        "}\n",
        "commandes = pd.DataFrame(commandes_data)\n",
        "\n",
        "# Sauvegarder les datasets\n",
        "utilisateurs.to_csv('utilisateurs_ex1.csv', index=False)\n",
        "commandes.to_csv('commandes_ex1.csv', index=False)\n",
        "\n",
        "print(\"Les datasets ont été générés et sauvegardés avec succès.\")\n"
      ]
    },
    {
      "cell_type": "code",
      "source": [
        "import pandas as pd\n",
        "import random\n",
        "from faker import Faker\n",
        "\n",
        "# Initialiser Faker pour générer des données réalistes\n",
        "fake = Faker()\n",
        "\n",
        "# Générer des utilisateurs avec potentiellement des noms en doublon mais des emails uniques\n",
        "num_users = 10000\n",
        "noms = [fake.name() for _ in range(int(num_users * 0.8))]  # 80% des utilisateurs ont un nom unique\n",
        "noms += random.choices(noms, k=int(num_users * 0.2))  # 20% de doublons de noms\n",
        "random.shuffle(noms)  # Mélanger les noms pour avoir des doublons aléatoires\n",
        "\n",
        "utilisateurs_data = {\n",
        "    'id': range(1, num_users + 1),  # Identifiants uniques pour les utilisateurs\n",
        "    'nom': noms,\n",
        "    'email': [fake.unique.email() for _ in range(num_users)]  # Emails uniques\n",
        "}\n",
        "\n",
        "# Création du DataFrame utilisateurs\n",
        "utilisateurs = pd.DataFrame(utilisateurs_data)\n",
        "\n",
        "# Sauvegarder le dataset\n",
        "utilisateurs.to_csv('utilisateurs_doublons_ex2.csv', index=False)\n",
        "\n",
        "print(\"Le dataset a été généré et sauvegardé avec succès.\")\n"
      ],
      "metadata": {
        "colab": {
          "base_uri": "https://localhost:8080/"
        },
        "id": "Zw7bZ_6E9u3K",
        "outputId": "102d1b0f-2430-4acb-cd54-9997869288c0"
      },
      "execution_count": null,
      "outputs": [
        {
          "output_type": "stream",
          "name": "stdout",
          "text": [
            "Le dataset a été généré et sauvegardé avec succès.\n"
          ]
        }
      ]
    },
    {
      "cell_type": "code",
      "source": [
        "import pandas as pd\n",
        "import random\n",
        "from faker import Faker\n",
        "\n",
        "# Initialiser Faker pour générer des données réalistes\n",
        "fake = Faker()\n",
        "\n",
        "# Générer des utilisateurs avec des valeurs manquantes dans nom et email\n",
        "num_users = 10000\n",
        "noms = [fake.name() if random.random() > 0.1 else None for _ in range(num_users)]  # 10% des noms sont manquants\n",
        "emails = [fake.unique.email() if random.random() > 0.1 else None for _ in range(num_users)]  # 10% des emails sont manquants\n",
        "\n",
        "utilisateurs_data = {\n",
        "    'id': range(1, num_users + 1),  # Identifiants uniques pour les utilisateurs\n",
        "    'nom': noms,\n",
        "    'email': emails\n",
        "}\n",
        "\n",
        "# Création du DataFrame utilisateurs\n",
        "utilisateurs = pd.DataFrame(utilisateurs_data)\n",
        "\n",
        "# Sauvegarder le dataset\n",
        "utilisateurs.to_csv('utilisateurs_valeurs_manquantes_ex3.csv', index=False)\n",
        "\n",
        "print(\"Le dataset a été généré et sauvegardé avec succès.\")\n"
      ],
      "metadata": {
        "colab": {
          "base_uri": "https://localhost:8080/"
        },
        "id": "tDdW0hZ_9v3p",
        "outputId": "29ba600b-bb5c-4ad2-9ed0-f95496ae96bc"
      },
      "execution_count": null,
      "outputs": [
        {
          "output_type": "stream",
          "name": "stdout",
          "text": [
            "Le dataset a été généré et sauvegardé avec succès.\n"
          ]
        }
      ]
    },
    {
      "cell_type": "code",
      "source": [
        "import pandas as pd\n",
        "import random\n",
        "from faker import Faker\n",
        "\n",
        "# Initialiser Faker pour générer des villes\n",
        "fake = Faker()\n",
        "\n",
        "# Liste de villes pour introduire des incohérences\n",
        "villes = ['Paris', 'paris', 'PARIS', 'Lyon', 'lyon', 'LYON', 'Marseille', 'marseille', 'MARSEILLE', 'Nice', 'nice', 'NICE']\n",
        "\n",
        "# Générer des utilisateurs avec des variations dans les noms de villes\n",
        "num_users = 10000\n",
        "ville_variations = [random.choice(villes) for _ in range(num_users)]\n",
        "\n",
        "utilisateurs_data = {\n",
        "    'id': range(1, num_users + 1),  # Identifiants uniques pour les utilisateurs\n",
        "    'ville': ville_variations\n",
        "}\n",
        "\n",
        "# Création du DataFrame utilisateurs\n",
        "utilisateurs = pd.DataFrame(utilisateurs_data)\n",
        "\n",
        "# Sauvegarder le dataset\n",
        "utilisateurs.to_csv('utilisateurs_villes_incoherentes_ex4.csv', index=False)\n",
        "\n",
        "print(\"Le dataset a été généré et sauvegardé avec succès.\")\n"
      ],
      "metadata": {
        "colab": {
          "base_uri": "https://localhost:8080/"
        },
        "id": "wWTjvXpf-vXL",
        "outputId": "d0b9346a-74db-4fed-9511-878df780471f"
      },
      "execution_count": null,
      "outputs": [
        {
          "output_type": "stream",
          "name": "stdout",
          "text": [
            "Le dataset a été généré et sauvegardé avec succès.\n"
          ]
        }
      ]
    },
    {
      "cell_type": "code",
      "source": [
        "import pandas as pd\n",
        "import random\n",
        "from faker import Faker\n",
        "\n",
        "# Initialiser Faker pour générer des numéros de téléphone\n",
        "fake = Faker()\n",
        "\n",
        "# Fonction pour introduire des erreurs de format dans les numéros de téléphone\n",
        "def generate_telephone():\n",
        "    if random.random() > 0.8:  # 20% des numéros auront un mauvais format\n",
        "        return fake.phone_number().replace('0', '1', 1)  # remplacer le premier 0 par 1\n",
        "    else:\n",
        "        return fake.phone_number()\n",
        "\n",
        "# Générer des utilisateurs avec des numéros de téléphone\n",
        "num_users = 10000\n",
        "telephones = [generate_telephone() for _ in range(num_users)]\n",
        "\n",
        "utilisateurs_data = {\n",
        "    'id': range(1, num_users + 1),  # Identifiants uniques pour les utilisateurs\n",
        "    'telephone': telephones\n",
        "}\n",
        "\n",
        "# Création du DataFrame utilisateurs\n",
        "utilisateurs = pd.DataFrame(utilisateurs_data)\n",
        "\n",
        "# Sauvegarder le dataset\n",
        "utilisateurs.to_csv('utilisateurs_telephones_incorrects_ex5.csv', index=False)\n",
        "\n",
        "print(\"Le dataset a été généré et sauvegardé avec succès.\")\n"
      ],
      "metadata": {
        "colab": {
          "base_uri": "https://localhost:8080/"
        },
        "id": "l6r1UF68_MSc",
        "outputId": "c541a223-f3b3-4424-f3a1-40a14076fee7"
      },
      "execution_count": null,
      "outputs": [
        {
          "output_type": "stream",
          "name": "stdout",
          "text": [
            "Le dataset a été généré et sauvegardé avec succès.\n"
          ]
        }
      ]
    },
    {
      "cell_type": "code",
      "source": [
        "import pandas as pd\n",
        "import random\n",
        "from faker import Faker\n",
        "\n",
        "# Initialiser Faker pour générer des commandes et des produits\n",
        "fake = Faker()\n",
        "\n",
        "# Générer des données pour les commandes\n",
        "num_commandes = 10000\n",
        "max_produits_par_commande = 5  # Chaque commande peut contenir jusqu'à 5 produits\n",
        "\n",
        "commandes_data = {\n",
        "    'commande_id': range(1, num_commandes + 1),\n",
        "    'produits': [\n",
        "        ','.join([str(random.randint(1, 100)) for _ in range(random.randint(1, max_produits_par_commande))])\n",
        "        for _ in range(num_commandes)\n",
        "    ],  # Liste des produits pour chaque commande\n",
        "    'quantite': [\n",
        "        ','.join([str(random.randint(1, 10)) for _ in range(random.randint(1, max_produits_par_commande))])\n",
        "        for _ in range(num_commandes)\n",
        "    ]  # Liste des quantités associées à chaque produit\n",
        "}\n",
        "\n",
        "# Création du DataFrame commandes\n",
        "commandes = pd.DataFrame(commandes_data)\n",
        "\n",
        "# Sauvegarder le dataset\n",
        "commandes.to_csv('commandes_non_normalisees_ex6.csv', index=False)\n",
        "\n",
        "print(\"Le dataset non normalisé a été généré et sauvegardé avec succès.\")\n"
      ],
      "metadata": {
        "colab": {
          "base_uri": "https://localhost:8080/"
        },
        "id": "Sz23yHFh_bce",
        "outputId": "5bfc21b9-ad5e-47fd-a467-07c7e5b7f2b3"
      },
      "execution_count": null,
      "outputs": [
        {
          "output_type": "stream",
          "name": "stdout",
          "text": [
            "Le dataset non normalisé a été généré et sauvegardé avec succès.\n"
          ]
        }
      ]
    },
    {
      "cell_type": "code",
      "source": [
        "import pandas as pd\n",
        "import random\n",
        "from faker import Faker\n",
        "\n",
        "# Initialiser Faker\n",
        "fake = Faker()\n",
        "\n",
        "# Générer des données pour les produits et commandes\n",
        "num_commandes = 10000\n",
        "num_produits = 100  # 100 produits différents\n",
        "\n",
        "# Générer une liste de produits\n",
        "produits = [{'produit_id': i, 'produit_nom': fake.word()} for i in range(1, num_produits + 1)]\n",
        "\n",
        "# Générer des données pour les commandes\n",
        "commandes_data = {\n",
        "    'commande_id': range(1, num_commandes + 1),\n",
        "    'produit_id': [random.randint(1, num_produits) for _ in range(num_commandes)],\n",
        "    'produit_nom': [produits[random.randint(0, num_produits-1)]['produit_nom'] for _ in range(num_commandes)],\n",
        "    'quantite': [random.randint(1, 10) for _ in range(num_commandes)]\n",
        "}\n",
        "\n",
        "# Création du DataFrame produits_commandes\n",
        "produits_commandes = pd.DataFrame(commandes_data)\n",
        "\n",
        "# Sauvegarder le dataset\n",
        "produits_commandes.to_csv('produits_commandes_non_normalises_ex7.csv', index=False)\n",
        "\n",
        "print(\"Le dataset non normalisé a été généré et sauvegardé avec succès.\")\n"
      ],
      "metadata": {
        "colab": {
          "base_uri": "https://localhost:8080/"
        },
        "id": "lhsAivl9_iKu",
        "outputId": "e4b4772c-c30a-44a2-98ca-5b2bd9693196"
      },
      "execution_count": null,
      "outputs": [
        {
          "output_type": "stream",
          "name": "stdout",
          "text": [
            "Le dataset non normalisé a été généré et sauvegardé avec succès.\n"
          ]
        }
      ]
    },
    {
      "cell_type": "code",
      "source": [
        "import pandas as pd\n",
        "import random\n",
        "from faker import Faker\n",
        "\n",
        "# Initialiser Faker\n",
        "fake = Faker()\n",
        "\n",
        "# Définir le nombre de lignes pour chaque table\n",
        "num_utilisateurs = 5000\n",
        "num_commandes = 10000\n",
        "\n",
        "# Générer les utilisateurs\n",
        "utilisateurs_data = {\n",
        "    'id': range(1, num_utilisateurs + 1),\n",
        "    'nom': [fake.name() for _ in range(num_utilisateurs)],\n",
        "    'email': [fake.email() for _ in range(num_utilisateurs)],\n",
        "    'ville': [fake.city() for _ in range(num_utilisateurs)],\n",
        "    'date_inscription': [fake.date_between(start_date='-5y', end_date='today') for _ in range(num_utilisateurs)],\n",
        "    'telephone': [fake.phone_number() for _ in range(num_utilisateurs)]\n",
        "}\n",
        "\n",
        "# Générer les commandes\n",
        "commandes_data = {\n",
        "    'commande_id': range(1, num_commandes + 1),\n",
        "    'utilisateur_id': [random.randint(1, num_utilisateurs) for _ in range(num_commandes)],\n",
        "    'date_commande': [fake.date_between(start_date='-3y', end_date='today') for _ in range(num_commandes)],\n",
        "    'montant': [round(random.uniform(10, 1000), 2) for _ in range(num_commandes)],\n",
        "    'statut': [random.choice(['livrée', 'en cours', 'annulée']) for _ in range(num_commandes)]\n",
        "}\n",
        "\n",
        "# Création des DataFrames\n",
        "utilisateurs = pd.DataFrame(utilisateurs_data)\n",
        "commandes = pd.DataFrame(commandes_data)\n",
        "\n",
        "# Sauvegarder les datasets\n",
        "utilisateurs.to_csv('utilisateurs_ex1_OPT.csv', index=False)\n",
        "commandes.to_csv('commandes_ex1_OPT.csv', index=False)\n",
        "\n",
        "print(\"Les datasets 'utilisateurs' et 'commandes' ont été générés et sauvegardés avec succès.\")\n"
      ],
      "metadata": {
        "colab": {
          "base_uri": "https://localhost:8080/"
        },
        "id": "xELRw7_MADI9",
        "outputId": "6129a037-7cbe-4e02-d8d6-03d1129704c0"
      },
      "execution_count": null,
      "outputs": [
        {
          "output_type": "stream",
          "name": "stdout",
          "text": [
            "Les datasets 'utilisateurs' et 'commandes' ont été générés et sauvegardés avec succès.\n"
          ]
        }
      ]
    },
    {
      "cell_type": "code",
      "source": [
        "import pandas as pd\n",
        "import random\n",
        "from faker import Faker\n",
        "\n",
        "# Initialiser Faker\n",
        "fake = Faker()\n",
        "\n",
        "# Définir le nombre de lignes pour chaque table\n",
        "num_utilisateurs = 5000\n",
        "num_commandes = 15000  # Environ 3 commandes par utilisateur\n",
        "\n",
        "# Générer les utilisateurs\n",
        "utilisateurs_data = {\n",
        "    'id': range(1, num_utilisateurs + 1),\n",
        "    'nom': [fake.name() for _ in range(num_utilisateurs)],\n",
        "    'email': [fake.email() for _ in range(num_utilisateurs)],\n",
        "    'ville': [random.choice(['Paris', 'Lyon', 'Marseille', 'Bordeaux', 'Toulouse', 'paris', 'lyon', 'marseille', 'BORDEAUX', 'TOULOUSE', 'Pari', 'Lyonne']) for _ in range(num_utilisateurs)],\n",
        "    'code_postal': [fake.zipcode() for _ in range(num_utilisateurs)]\n",
        "}\n",
        "\n",
        "# Générer les commandes\n",
        "commandes_data = {\n",
        "    'commande_id': range(1, num_commandes + 1),\n",
        "    'utilisateur_id': [random.randint(1, num_utilisateurs) for _ in range(num_commandes)],\n",
        "    'produit_id': [random.randint(1, 100) for _ in range(num_commandes)],  # Assume 100 produits\n",
        "    'date_commande': [fake.date_between(start_date='-1y', end_date='today') for _ in range(num_commandes)],\n",
        "    'montant': [round(random.uniform(10, 200), 2) for _ in range(num_commandes)]\n",
        "}\n",
        "\n",
        "# Création des DataFrames\n",
        "utilisateurs = pd.DataFrame(utilisateurs_data)\n",
        "commandes = pd.DataFrame(commandes_data)\n",
        "\n",
        "# Sauvegarder les datasets\n",
        "utilisateurs.to_csv('utilisateurs_ex3_OPT.csv', index=False)\n",
        "commandes.to_csv('commandes_ex3_OPT.csv', index=False)\n",
        "\n",
        "print(\"Les datasets 'utilisateurs' et 'commandes' ont été générés et sauvegardés avec succès.\")\n"
      ],
      "metadata": {
        "colab": {
          "base_uri": "https://localhost:8080/"
        },
        "id": "a67qoKlXA-HV",
        "outputId": "d3e7ed8f-5ac7-4c3a-a61b-f4f61bb07a08"
      },
      "execution_count": null,
      "outputs": [
        {
          "output_type": "stream",
          "name": "stdout",
          "text": [
            "Les datasets 'utilisateurs' et 'commandes' ont été générés et sauvegardés avec succès.\n"
          ]
        }
      ]
    },
    {
      "cell_type": "code",
      "source": [
        "import pandas as pd\n",
        "import random\n",
        "from faker import Faker\n",
        "\n",
        "# Initialiser Faker\n",
        "fake = Faker()\n",
        "\n",
        "# Définir le nombre de lignes pour chaque table\n",
        "num_utilisateurs = 5000\n",
        "num_produits = 500\n",
        "\n",
        "# Générer les utilisateurs\n",
        "utilisateurs_data = {\n",
        "    'id': range(1, num_utilisateurs + 1),\n",
        "    'nom': [fake.name() for _ in range(num_utilisateurs)],\n",
        "    'email': [fake.email() for _ in range(num_utilisateurs)],\n",
        "    'telephone': [random.choice([fake.phone_number(), None]) for _ in range(num_utilisateurs)],\n",
        "    'date_inscription': [fake.date_between(start_date='-5y', end_date='today') for _ in range(num_utilisateurs)],\n",
        "    'ville': [fake.city() for _ in range(num_utilisateurs)]\n",
        "}\n",
        "\n",
        "# Générer les produits\n",
        "produits_data = {\n",
        "    'produit_id': range(1, num_produits + 1),\n",
        "    'nom_produit': [fake.word() for _ in range(num_produits)],\n",
        "    'prix': [round(random.uniform(5, 100), 2) for _ in range(num_produits)],\n",
        "    'quantite_stock': [random.randint(0, 100) for _ in range(num_produits)]\n",
        "}\n",
        "\n",
        "# Création des DataFrames\n",
        "utilisateurs = pd.DataFrame(utilisateurs_data)\n",
        "produits = pd.DataFrame(produits_data)\n",
        "\n",
        "# Sauvegarder les datasets\n",
        "utilisateurs.to_csv('utilisateurs_ex2_OPT.csv', index=False)\n",
        "produits.to_csv('produits_ex2_OPT.csv', index=False)\n",
        "\n",
        "print(\"Les datasets 'utilisateurs' et 'produits' ont été générés et sauvegardés avec succès.\")\n"
      ],
      "metadata": {
        "colab": {
          "base_uri": "https://localhost:8080/"
        },
        "id": "7c2bAWC7AwOj",
        "outputId": "89a0f341-2eea-450c-fbf1-69530ba2b7d9"
      },
      "execution_count": null,
      "outputs": [
        {
          "output_type": "stream",
          "name": "stdout",
          "text": [
            "Les datasets 'utilisateurs' et 'produits' ont été générés et sauvegardés avec succès.\n"
          ]
        }
      ]
    }
  ]
}